{
 "cells": [
  {
   "cell_type": "markdown",
   "metadata": {},
   "source": [
    "<table>\n",
    "<tr>\n",
    "<td><img src=\"img/figure1a.jpg\" alt=\"input excerpt\" width=\"200\"></td>\n",
    "<td><img src=\"img/figure1b.jpg\" alt=\"\" width=\"200\"></td>\n",
    "<td><img src=\"img/figure1c.jpg\" alt=\"\" width=\"200\"> </td>\n",
    "<td><img src=\"img/figure1d.jpg\" alt=\"\" width=\"200\"></td>\n",
    "</tr>\n",
    "<tr>\n",
    "<td><img src=\"img/river.jpg\" alt=\"input excerpt\" width=\"200\"></td>\n",
    "<td><img src=\"img/riverl1.jpg\" alt=\"\" width=\"200\"></td>\n",
    "<td><img src=\"img/bthriver.jpg\" alt=\"\" width=\"200\"> </td>\n",
    "<td><img src=\"img/maskriver.jpg\" alt=\"\" width=\"200\"></td>\n",
    "</tr>\n",
    "<tr>\n",
    "<td align=\"center\" colspan=\"4\">Example of simple line networks typically observed in images: blood vessels in a eye retina image (top) and a river in a satellite optical image (bottom), and the functions derived in step 1 and used for designing the anisotropic metric of step 4. From left to right: original image (note that $I$ is in that case initialised with the complement of the image), its GST norm $N$ (the darker a pixel, the lower its norm); the function~$F$ of Eq(??) (the brighter a pixel, the longer the lines passing through it) computed for $k_1=5, k_n=30$ and $\\lambda=3$ in both cases (networks of similar size) and the resulting geodesic mask $W$ of \n",
    "Eq(??)  enhancing  dark elongated features.</td>\n",
    "</tr>\n",
    "</table>\n",
    "\n",
    "* <a name=\"BPC08\"></a>Bougleux S., Peyre G., and Cohen L. (2008): [**Anisotropic geodesics for perceptual grouping and domain meshing**](https://www.ceremade.dauphine.fr/~cohen/mypapers/bougleuxeccv08.pdf), in _Proc. ECCV_, Lecture Notes in Computer Science,, vol. 5303, pp. 129-142, doi:[10.1007/978-3-540-88688-4_10](http://dx.doi.org/10.1007/978-3-540-88688-4_10).\n",
    "* <a name=\"IT07\"></a>Ikonen L. and Toivanen P. (2007): **Distance and nearest neighbor transforms on\n",
    "gray-level surfaces**, _Pattern Recognition Letters_, 28 (5):604-612, doi:[10.1016/j.patrec.2006.10.010](http://dx.doi.org/10.1016/j.patrec.2006.10.010).\n",
    "* <a name=\"Kothe03\"></a>Kothe U. (2003): **Integrated edge and junction detection with the boundary\n",
    "tensor**, in _Proc. ICCV_, pp. 424-431, doi:[10.1109/ICCV.2003.1238377](http://dx.doi.org/10.1109/ICCV.2003.1238377).\n",
    "* <a name=\"PPKC10\"></a>Peyr\u0013e G., P\u0013echaud M., Keriven R., and Cohen L. (2010): [**Geodesic methods in computer vision and graphics**](https://hal.archives-ouvertes.fr/hal-00528999/document), _Foundations and Trends in Computer Graphics and Vision_, 5(3/4):197-397, doi:[10.1561/0600000029](http://dx.doi.org/10.1561/0600000029).\n",
    "* <a name=\"Soille94\"></a>Soille, P. (1994): **Generalized geodesy via geodesic time**, _Pattern Recognition Letters_, 15(12):1235-1240, doi:[10.1016/0167-8655(94)90113-9](http://dx.doi.org/10.1016/0167-8655(94)90113-9).\n",
    "* <a name=\"SG07\"></a>Soille P. and Grazzini J., (2007): **Extraction of river networks from satellite images by combining mathematical morphology and hydrology**, in _Proc. CAIP_, Lecture Notes in Computer Science, vol. 4673, pp. 636-644, doi:[10.1007/978-3-540-74272-2_79](http://dx.doi.org/10.1007/978-3-540-74272-2_79).\n",
    "\n"
   ]
  }
 ],
 "metadata": {
  "anaconda-cloud": {},
  "kernelspec": {
   "display_name": "Python [conda root]",
   "language": "python",
   "name": "conda-root-py"
  },
  "language_info": {
   "codemirror_mode": {
    "name": "ipython",
    "version": 3
   },
   "file_extension": ".py",
   "mimetype": "text/x-python",
   "name": "python",
   "nbconvert_exporter": "python",
   "pygments_lexer": "ipython3",
   "version": "3.5.2"
  }
 },
 "nbformat": 4,
 "nbformat_minor": 1
}
