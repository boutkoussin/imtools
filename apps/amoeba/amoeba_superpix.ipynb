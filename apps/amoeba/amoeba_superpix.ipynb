test
$D_s=5$